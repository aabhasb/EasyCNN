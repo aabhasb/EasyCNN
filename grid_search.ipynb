{
 "cells": [
  {
   "cell_type": "code",
   "execution_count": 1,
   "metadata": {},
   "outputs": [],
   "source": [
    "%matplotlib inline\n",
    "%load_ext autoreload\n",
    "%autoreload 2"
   ]
  },
  {
   "cell_type": "code",
   "execution_count": 2,
   "metadata": {},
   "outputs": [
    {
     "name": "stderr",
     "output_type": "stream",
     "text": [
      "Using TensorFlow backend.\n"
     ]
    }
   ],
   "source": [
    "from keras.applications.inception_v3 import InceptionV3\n",
    "from keras.applications.inception_resnet_v2 import InceptionResNetV2\n",
    "from keras.applications.xception import Xception\n",
    "from keras.applications.densenet import DenseNet121\n",
    "from keras.applications.densenet import DenseNet169\n",
    "from keras.applications.densenet import DenseNet201\n",
    "from keras.applications.resnet50 import ResNet50\n",
    "from keras.preprocessing import image\n",
    "from keras.models import Model\n",
    "from keras.layers import Dense, GlobalAveragePooling2D, Dropout\n",
    "from keras import backend as K\n",
    "from keras.preprocessing.image import ImageDataGenerator\n",
    "from keras.optimizers import SGD\n",
    "from keras.optimizers import Adam\n",
    "from keras.metrics import top_k_categorical_accuracy\n",
    "import math\n",
    "from IPython.display import SVG\n",
    "from keras.utils.vis_utils import model_to_dot\n",
    "import matplotlib.pyplot as plt\n",
    "from keras.callbacks import TensorBoard\n",
    "import os\n",
    "import json\n",
    "from collections import defaultdict\n",
    "import keras\n",
    "import tensorflow as tf"
   ]
  },
  {
   "cell_type": "code",
   "execution_count": 3,
   "metadata": {},
   "outputs": [
    {
     "name": "stdout",
     "output_type": "stream",
     "text": [
      "[name: \"/cpu:0\"\n",
      "device_type: \"CPU\"\n",
      "memory_limit: 268435456\n",
      "locality {\n",
      "}\n",
      "incarnation: 7824454229175728213\n",
      "]\n"
     ]
    }
   ],
   "source": [
    "from tensorflow.python.client import device_lib\n",
    "print(device_lib.list_local_devices())"
   ]
  },
  {
   "cell_type": "code",
   "execution_count": 4,
   "metadata": {
    "collapsed": true
   },
   "outputs": [],
   "source": [
    "\n",
    "params = {}\n",
    "params[\"train_dir\"] = \"train\"\n",
    "params[\"test_dir\"] = \"test\"\n",
    "params[\"batch_size\"] = 8\n",
    "params[\"img_width\"] = 221\n",
    "params[\"img_height\"] = 221\n",
    "\n",
    "\n",
    "params[\"loss\"] = \"categorical_crossentropy\"\n",
    "params[\"metrics\"] = ['top_k_categorical_accuracy', 'accuracy']\n",
    "params[\"initial_epoch\"] = 2\n",
    "params[\"final_epoch\"] = 4\n",
    "params[\"workers\"] = 8\n",
    "params[\"step_per_epoch\"] = 32\n",
    "params[\"train_threshold\"] = 0\n",
    "params[\"phase1_optimizer\"] = \"adam\"\n",
    "\n",
    "params[\"model_list\"] = [\"InceptionV3\", \"xception\", \"InceptionResNetV2\", \"DenseNet121\", \"DenseNet169\", \"DenseNet201\"]\n",
    "params[\"dropout_list\"] = [0.1, 0.2, 0.3]\n",
    "params[\"dense_list\"] = [512, 1024]\n",
    "\n",
    "with open(\"params.json\", \"w\") as f:\n",
    "    json.dump(params, f)\n",
    "    \n"
   ]
  },
  {
   "cell_type": "code",
   "execution_count": 5,
   "metadata": {
    "collapsed": true
   },
   "outputs": [],
   "source": [
    "params = {}\n",
    "\n",
    "with open(\"params.json\", \"r\") as f:\n",
    "    params = json.load(f)\n",
    "\n",
    "params[\"train_size\"] = sum([len(files) for r, d, files in os.walk( params[\"train_dir\"] )])\n",
    "params[\"test_size\"] = sum([len(files) for r, d, files in os.walk( params[\"test_dir\"] )])\n",
    "params[\"classes\"] = sum([len(d) for r, d, files in os.walk( params[\"train_dir\"] )])\n",
    "params[\"phase2_optimizer\"] = SGD(lr=0.001, momentum=0.9)\n",
    "params[\"dense_num\"] = 2\n",
    "params[\"dense2\"] = {\"num\":params[\"classes\"], \"activation\":\"softmax\"}    "
   ]
  },
  {
   "cell_type": "code",
   "execution_count": 6,
   "metadata": {},
   "outputs": [
    {
     "name": "stdout",
     "output_type": "stream",
     "text": [
      "Found 8187 images belonging to 102 classes.\n",
      "Found 957 images belonging to 102 classes.\n"
     ]
    }
   ],
   "source": [
    "train_datagen = ImageDataGenerator(\n",
    "        rescale=1./255,\n",
    "        zoom_range=0.1,\n",
    "        width_shift_range=0.1,\n",
    "        height_shift_range=0.1,\n",
    "        horizontal_flip=True)\n",
    "\n",
    "train_generator = train_datagen.flow_from_directory(\n",
    "        params[\"train_dir\"],\n",
    "        target_size = (params[\"img_width\"], params[\"img_height\"]),\n",
    "        batch_size = params[\"batch_size\"],\n",
    "        shuffle = True,\n",
    "        class_mode = 'categorical')\n",
    "\n",
    "val_datagen = ImageDataGenerator(rescale=1./255)\n",
    "\n",
    "validation_generator = val_datagen.flow_from_directory(\n",
    "        params[\"test_dir\"],\n",
    "        target_size = (params[\"img_width\"], params[\"img_height\"]),\n",
    "        batch_size = params[\"batch_size\"],\n",
    "        shuffle = True,\n",
    "        class_mode = 'categorical')"
   ]
  },
  {
   "cell_type": "code",
   "execution_count": 7,
   "metadata": {
    "collapsed": true
   },
   "outputs": [],
   "source": [
    "def create_model():\n",
    "    base_model=None\n",
    "    if params[\"model\"] == \"InceptionV3\":\n",
    "        params[\"train_threshold\"] = 249\n",
    "        base_model = InceptionV3(weights='imagenet', include_top=False, input_tensor=None, input_shape=(params[\"img_width\"], params[\"img_height\"], 3))\n",
    "    elif params[\"model\"] == \"xception\":\n",
    "        params[\"train_threshold\"] = 106\n",
    "        base_model = Xception(weights='imagenet', include_top=False, input_tensor=None, input_shape=(params[\"img_width\"], params[\"img_height\"], 3))\n",
    "    elif params[\"model\"] == \"InceptionResNetV2\":\n",
    "        params[\"train_threshold\"] = 727\n",
    "        base_model = InceptionResNetV2(weights='imagenet', include_top=False, input_tensor=None, input_shape=(params[\"img_width\"], params[\"img_height\"], 3))\n",
    "    elif params[\"model\"] == \"DenseNet121\":\n",
    "        params[\"train_threshold\"] = 403\n",
    "        base_model = DenseNet121(weights='imagenet', include_top=False, input_tensor=None, input_shape=(params[\"img_width\"], params[\"img_height\"], 3))    \n",
    "    elif params[\"model\"] == \"DenseNet169\": \n",
    "        params[\"train_threshold\"] = 571\n",
    "        base_model = DenseNet169(weights='imagenet', include_top=False, input_tensor=None, input_shape=(params[\"img_width\"], params[\"img_height\"], 3))    \n",
    "    elif params[\"model\"] == \"DenseNet201\":\n",
    "        params[\"train_threshold\"] = 683\n",
    "        base_model = DenseNet201(weights='imagenet', include_top=False, input_tensor=None, input_shape=(params[\"img_width\"], params[\"img_height\"], 3))    \n",
    "    elif params[\"model\"] == \"ResNet50\":\n",
    "        params[\"train_threshold\"] = 140\n",
    "        base_model = ResNet50(weights='imagenet', include_top=False, input_tensor=None, pooling=None, input_shape=(params[\"img_width\"], params[\"img_height\"], 3))    \n",
    "    else:\n",
    "        print(\"unknown model\")\n",
    "\n",
    "    count = 0\n",
    "    modelx = base_model.output\n",
    "\n",
    "    while count < params[\"dense_num\"]:\n",
    "        count += 1\n",
    "        string = \"dense\"+str(count)\n",
    "\n",
    "        if \"pool\" in params[string]:\n",
    "            if params[string][\"pool\"] == \"avg_poolx\":\n",
    "                modelx = GlobalAveragePooling2D(name=params[string][\"pool\"])(modelx)\n",
    "\n",
    "        modelx = Dense(params[string][\"num\"], activation = params[string][\"activation\"])(modelx)\n",
    "    \n",
    "        if \"dropout\" in params[string]:\n",
    "            modelx = Dropout(params[string][\"dropout\"])(modelx)\n",
    "        \n",
    "    model = Model(inputs=base_model.input, output=modelx)\n",
    "\n",
    "    for layer in base_model.layers:\n",
    "        layer.trainable = False\n",
    "\n",
    "    model.compile(loss=params[\"loss\"], optimizer=params[\"phase1_optimizer\"], metrics=params[\"metrics\"])\n",
    "    \n",
    "    return model"
   ]
  },
  {
   "cell_type": "code",
   "execution_count": 8,
   "metadata": {
    "collapsed": true
   },
   "outputs": [],
   "source": [
    "class log_history(keras.callbacks.Callback):\n",
    "    def on_train_begin(self, logs={}):\n",
    "        pass\n",
    "        \n",
    "    def on_epoch_end(self, batch, logs={}):\n",
    "        params[\"history\"][\"val_top_k_categorical_accuracy\"].append(logs.get('val_top_k_categorical_accuracy'))\n",
    "        params[\"history\"][\"val_loss\"].append(logs.get('val_loss'))\n",
    "        params[\"history\"][\"loss\"].append(logs.get('loss'))\n",
    "        params[\"history\"][\"top_k_categorical_accuracy\"].append(logs.get('top_k_categorical_accuracy'))\n",
    "        params[\"history\"][\"acc\"].append(logs.get('acc'))\n",
    "        params[\"history\"][\"val_acc\"].append(logs.get('val_acc')) \n",
    "#        print(params[\"history\"])\n",
    "        with open(params[\"historypath\"] + \"/epoch.json\", \"w\") as f:\n",
    "            json.dump(params[\"history\"], f)         "
   ]
  },
  {
   "cell_type": "code",
   "execution_count": 9,
   "metadata": {},
   "outputs": [
    {
     "name": "stderr",
     "output_type": "stream",
     "text": [
      "C:\\Anaconda3\\lib\\site-packages\\ipykernel_launcher.py:43: UserWarning: Update your `Model` call to the Keras 2 API: `Model(inputs=Tensor(\"in..., outputs=Tensor(\"de...)`\n"
     ]
    },
    {
     "name": "stdout",
     "output_type": "stream",
     "text": [
      "Epoch 1/2\n",
      "32/32 [==============================] - 406s 13s/step - loss: 4.5839 - top_k_categorical_accuracy: 0.2266 - acc: 0.1250 - val_loss: 4.0391 - val_top_k_categorical_accuracy: 0.3699 - val_acc: 0.2581\n",
      "Epoch 2/2\n",
      "32/32 [==============================] - 407s 13s/step - loss: 3.8827 - top_k_categorical_accuracy: 0.3750 - acc: 0.2461 - val_loss: 3.5183 - val_top_k_categorical_accuracy: 0.4890 - val_acc: 0.3177\n",
      "Epoch 3/4\n",
      "32/32 [==============================] - 458s 14s/step - loss: 3.1601 - top_k_categorical_accuracy: 0.5117 - acc: 0.3125 - val_loss: 3.0284 - val_top_k_categorical_accuracy: 0.5361 - val_acc: 0.3553\n",
      "Epoch 4/4\n",
      "32/32 [==============================] - 454s 14s/step - loss: 2.8327 - top_k_categorical_accuracy: 0.5430 - acc: 0.3750 - val_loss: 2.7690 - val_top_k_categorical_accuracy: 0.6134 - val_acc: 0.3845\n",
      "Epoch 1/2\n",
      "32/32 [==============================] - 418s 13s/step - loss: 4.6852 - top_k_categorical_accuracy: 0.2930 - acc: 0.1602 - val_loss: 3.9596 - val_top_k_categorical_accuracy: 0.4148 - val_acc: 0.2926\n",
      "Epoch 2/2\n",
      "13/32 [===========>..................] - ETA: 52s - loss: 3.5541 - top_k_categorical_accuracy: 0.4231 - acc: 0.2500"
     ]
    },
    {
     "ename": "KeyboardInterrupt",
     "evalue": "",
     "output_type": "error",
     "traceback": [
      "\u001b[1;31m---------------------------------------------------------------------------\u001b[0m",
      "\u001b[1;31mKeyboardInterrupt\u001b[0m                         Traceback (most recent call last)",
      "\u001b[1;32m<ipython-input-9-6fa37efded32>\u001b[0m in \u001b[0;36m<module>\u001b[1;34m()\u001b[0m\n\u001b[0;32m     32\u001b[0m                          \u001b[0mvalidation_data\u001b[0m \u001b[1;33m=\u001b[0m \u001b[0mvalidation_generator\u001b[0m\u001b[1;33m,\u001b[0m\u001b[1;33m\u001b[0m\u001b[0m\n\u001b[0;32m     33\u001b[0m                          \u001b[0mcallbacks\u001b[0m\u001b[1;33m=\u001b[0m\u001b[1;33m[\u001b[0m\u001b[0mtbd\u001b[0m\u001b[1;33m,\u001b[0m \u001b[0mepoch_history\u001b[0m\u001b[1;33m]\u001b[0m\u001b[1;33m,\u001b[0m\u001b[1;33m\u001b[0m\u001b[0m\n\u001b[1;32m---> 34\u001b[1;33m                          validation_steps = math.ceil(params[\"test_size\"]  / params[\"batch_size\"]))  \n\u001b[0m\u001b[0;32m     35\u001b[0m \u001b[1;33m\u001b[0m\u001b[0m\n\u001b[0;32m     36\u001b[0m             \u001b[1;32mfor\u001b[0m \u001b[0mlayer\u001b[0m \u001b[1;32min\u001b[0m \u001b[0mmodel\u001b[0m\u001b[1;33m.\u001b[0m\u001b[0mlayers\u001b[0m\u001b[1;33m[\u001b[0m\u001b[1;33m:\u001b[0m\u001b[0mparams\u001b[0m\u001b[1;33m[\u001b[0m\u001b[1;34m\"train_threshold\"\u001b[0m\u001b[1;33m]\u001b[0m\u001b[1;33m]\u001b[0m\u001b[1;33m:\u001b[0m\u001b[1;33m\u001b[0m\u001b[0m\n",
      "\u001b[1;32mC:\\Anaconda3\\lib\\site-packages\\keras\\legacy\\interfaces.py\u001b[0m in \u001b[0;36mwrapper\u001b[1;34m(*args, **kwargs)\u001b[0m\n\u001b[0;32m     89\u001b[0m                 warnings.warn('Update your `' + object_name +\n\u001b[0;32m     90\u001b[0m                               '` call to the Keras 2 API: ' + signature, stacklevel=2)\n\u001b[1;32m---> 91\u001b[1;33m             \u001b[1;32mreturn\u001b[0m \u001b[0mfunc\u001b[0m\u001b[1;33m(\u001b[0m\u001b[1;33m*\u001b[0m\u001b[0margs\u001b[0m\u001b[1;33m,\u001b[0m \u001b[1;33m**\u001b[0m\u001b[0mkwargs\u001b[0m\u001b[1;33m)\u001b[0m\u001b[1;33m\u001b[0m\u001b[0m\n\u001b[0m\u001b[0;32m     92\u001b[0m         \u001b[0mwrapper\u001b[0m\u001b[1;33m.\u001b[0m\u001b[0m_original_function\u001b[0m \u001b[1;33m=\u001b[0m \u001b[0mfunc\u001b[0m\u001b[1;33m\u001b[0m\u001b[0m\n\u001b[0;32m     93\u001b[0m         \u001b[1;32mreturn\u001b[0m \u001b[0mwrapper\u001b[0m\u001b[1;33m\u001b[0m\u001b[0m\n",
      "\u001b[1;32mC:\\Anaconda3\\lib\\site-packages\\keras\\engine\\training.py\u001b[0m in \u001b[0;36mfit_generator\u001b[1;34m(self, generator, steps_per_epoch, epochs, verbose, callbacks, validation_data, validation_steps, class_weight, max_queue_size, workers, use_multiprocessing, shuffle, initial_epoch)\u001b[0m\n\u001b[0;32m   2222\u001b[0m                     outs = self.train_on_batch(x, y,\n\u001b[0;32m   2223\u001b[0m                                                \u001b[0msample_weight\u001b[0m\u001b[1;33m=\u001b[0m\u001b[0msample_weight\u001b[0m\u001b[1;33m,\u001b[0m\u001b[1;33m\u001b[0m\u001b[0m\n\u001b[1;32m-> 2224\u001b[1;33m                                                class_weight=class_weight)\n\u001b[0m\u001b[0;32m   2225\u001b[0m \u001b[1;33m\u001b[0m\u001b[0m\n\u001b[0;32m   2226\u001b[0m                     \u001b[1;32mif\u001b[0m \u001b[1;32mnot\u001b[0m \u001b[0misinstance\u001b[0m\u001b[1;33m(\u001b[0m\u001b[0mouts\u001b[0m\u001b[1;33m,\u001b[0m \u001b[0mlist\u001b[0m\u001b[1;33m)\u001b[0m\u001b[1;33m:\u001b[0m\u001b[1;33m\u001b[0m\u001b[0m\n",
      "\u001b[1;32mC:\\Anaconda3\\lib\\site-packages\\keras\\engine\\training.py\u001b[0m in \u001b[0;36mtrain_on_batch\u001b[1;34m(self, x, y, sample_weight, class_weight)\u001b[0m\n\u001b[0;32m   1881\u001b[0m             \u001b[0mins\u001b[0m \u001b[1;33m=\u001b[0m \u001b[0mx\u001b[0m \u001b[1;33m+\u001b[0m \u001b[0my\u001b[0m \u001b[1;33m+\u001b[0m \u001b[0msample_weights\u001b[0m\u001b[1;33m\u001b[0m\u001b[0m\n\u001b[0;32m   1882\u001b[0m         \u001b[0mself\u001b[0m\u001b[1;33m.\u001b[0m\u001b[0m_make_train_function\u001b[0m\u001b[1;33m(\u001b[0m\u001b[1;33m)\u001b[0m\u001b[1;33m\u001b[0m\u001b[0m\n\u001b[1;32m-> 1883\u001b[1;33m         \u001b[0moutputs\u001b[0m \u001b[1;33m=\u001b[0m \u001b[0mself\u001b[0m\u001b[1;33m.\u001b[0m\u001b[0mtrain_function\u001b[0m\u001b[1;33m(\u001b[0m\u001b[0mins\u001b[0m\u001b[1;33m)\u001b[0m\u001b[1;33m\u001b[0m\u001b[0m\n\u001b[0m\u001b[0;32m   1884\u001b[0m         \u001b[1;32mif\u001b[0m \u001b[0mlen\u001b[0m\u001b[1;33m(\u001b[0m\u001b[0moutputs\u001b[0m\u001b[1;33m)\u001b[0m \u001b[1;33m==\u001b[0m \u001b[1;36m1\u001b[0m\u001b[1;33m:\u001b[0m\u001b[1;33m\u001b[0m\u001b[0m\n\u001b[0;32m   1885\u001b[0m             \u001b[1;32mreturn\u001b[0m \u001b[0moutputs\u001b[0m\u001b[1;33m[\u001b[0m\u001b[1;36m0\u001b[0m\u001b[1;33m]\u001b[0m\u001b[1;33m\u001b[0m\u001b[0m\n",
      "\u001b[1;32mC:\\Anaconda3\\lib\\site-packages\\keras\\backend\\tensorflow_backend.py\u001b[0m in \u001b[0;36m__call__\u001b[1;34m(self, inputs)\u001b[0m\n\u001b[0;32m   2476\u001b[0m         \u001b[0msession\u001b[0m \u001b[1;33m=\u001b[0m \u001b[0mget_session\u001b[0m\u001b[1;33m(\u001b[0m\u001b[1;33m)\u001b[0m\u001b[1;33m\u001b[0m\u001b[0m\n\u001b[0;32m   2477\u001b[0m         updated = session.run(fetches=fetches, feed_dict=feed_dict,\n\u001b[1;32m-> 2478\u001b[1;33m                               **self.session_kwargs)\n\u001b[0m\u001b[0;32m   2479\u001b[0m         \u001b[1;32mreturn\u001b[0m \u001b[0mupdated\u001b[0m\u001b[1;33m[\u001b[0m\u001b[1;33m:\u001b[0m\u001b[0mlen\u001b[0m\u001b[1;33m(\u001b[0m\u001b[0mself\u001b[0m\u001b[1;33m.\u001b[0m\u001b[0moutputs\u001b[0m\u001b[1;33m)\u001b[0m\u001b[1;33m]\u001b[0m\u001b[1;33m\u001b[0m\u001b[0m\n\u001b[0;32m   2480\u001b[0m \u001b[1;33m\u001b[0m\u001b[0m\n",
      "\u001b[1;32mC:\\Anaconda3\\lib\\site-packages\\tensorflow\\python\\client\\session.py\u001b[0m in \u001b[0;36mrun\u001b[1;34m(self, fetches, feed_dict, options, run_metadata)\u001b[0m\n\u001b[0;32m    787\u001b[0m     \u001b[1;32mtry\u001b[0m\u001b[1;33m:\u001b[0m\u001b[1;33m\u001b[0m\u001b[0m\n\u001b[0;32m    788\u001b[0m       result = self._run(None, fetches, feed_dict, options_ptr,\n\u001b[1;32m--> 789\u001b[1;33m                          run_metadata_ptr)\n\u001b[0m\u001b[0;32m    790\u001b[0m       \u001b[1;32mif\u001b[0m \u001b[0mrun_metadata\u001b[0m\u001b[1;33m:\u001b[0m\u001b[1;33m\u001b[0m\u001b[0m\n\u001b[0;32m    791\u001b[0m         \u001b[0mproto_data\u001b[0m \u001b[1;33m=\u001b[0m \u001b[0mtf_session\u001b[0m\u001b[1;33m.\u001b[0m\u001b[0mTF_GetBuffer\u001b[0m\u001b[1;33m(\u001b[0m\u001b[0mrun_metadata_ptr\u001b[0m\u001b[1;33m)\u001b[0m\u001b[1;33m\u001b[0m\u001b[0m\n",
      "\u001b[1;32mC:\\Anaconda3\\lib\\site-packages\\tensorflow\\python\\client\\session.py\u001b[0m in \u001b[0;36m_run\u001b[1;34m(self, handle, fetches, feed_dict, options, run_metadata)\u001b[0m\n\u001b[0;32m    995\u001b[0m     \u001b[1;32mif\u001b[0m \u001b[0mfinal_fetches\u001b[0m \u001b[1;32mor\u001b[0m \u001b[0mfinal_targets\u001b[0m\u001b[1;33m:\u001b[0m\u001b[1;33m\u001b[0m\u001b[0m\n\u001b[0;32m    996\u001b[0m       results = self._do_run(handle, final_targets, final_fetches,\n\u001b[1;32m--> 997\u001b[1;33m                              feed_dict_string, options, run_metadata)\n\u001b[0m\u001b[0;32m    998\u001b[0m     \u001b[1;32melse\u001b[0m\u001b[1;33m:\u001b[0m\u001b[1;33m\u001b[0m\u001b[0m\n\u001b[0;32m    999\u001b[0m       \u001b[0mresults\u001b[0m \u001b[1;33m=\u001b[0m \u001b[1;33m[\u001b[0m\u001b[1;33m]\u001b[0m\u001b[1;33m\u001b[0m\u001b[0m\n",
      "\u001b[1;32mC:\\Anaconda3\\lib\\site-packages\\tensorflow\\python\\client\\session.py\u001b[0m in \u001b[0;36m_do_run\u001b[1;34m(self, handle, target_list, fetch_list, feed_dict, options, run_metadata)\u001b[0m\n\u001b[0;32m   1130\u001b[0m     \u001b[1;32mif\u001b[0m \u001b[0mhandle\u001b[0m \u001b[1;32mis\u001b[0m \u001b[1;32mNone\u001b[0m\u001b[1;33m:\u001b[0m\u001b[1;33m\u001b[0m\u001b[0m\n\u001b[0;32m   1131\u001b[0m       return self._do_call(_run_fn, self._session, feed_dict, fetch_list,\n\u001b[1;32m-> 1132\u001b[1;33m                            target_list, options, run_metadata)\n\u001b[0m\u001b[0;32m   1133\u001b[0m     \u001b[1;32melse\u001b[0m\u001b[1;33m:\u001b[0m\u001b[1;33m\u001b[0m\u001b[0m\n\u001b[0;32m   1134\u001b[0m       return self._do_call(_prun_fn, self._session, handle, feed_dict,\n",
      "\u001b[1;32mC:\\Anaconda3\\lib\\site-packages\\tensorflow\\python\\client\\session.py\u001b[0m in \u001b[0;36m_do_call\u001b[1;34m(self, fn, *args)\u001b[0m\n\u001b[0;32m   1137\u001b[0m   \u001b[1;32mdef\u001b[0m \u001b[0m_do_call\u001b[0m\u001b[1;33m(\u001b[0m\u001b[0mself\u001b[0m\u001b[1;33m,\u001b[0m \u001b[0mfn\u001b[0m\u001b[1;33m,\u001b[0m \u001b[1;33m*\u001b[0m\u001b[0margs\u001b[0m\u001b[1;33m)\u001b[0m\u001b[1;33m:\u001b[0m\u001b[1;33m\u001b[0m\u001b[0m\n\u001b[0;32m   1138\u001b[0m     \u001b[1;32mtry\u001b[0m\u001b[1;33m:\u001b[0m\u001b[1;33m\u001b[0m\u001b[0m\n\u001b[1;32m-> 1139\u001b[1;33m       \u001b[1;32mreturn\u001b[0m \u001b[0mfn\u001b[0m\u001b[1;33m(\u001b[0m\u001b[1;33m*\u001b[0m\u001b[0margs\u001b[0m\u001b[1;33m)\u001b[0m\u001b[1;33m\u001b[0m\u001b[0m\n\u001b[0m\u001b[0;32m   1140\u001b[0m     \u001b[1;32mexcept\u001b[0m \u001b[0merrors\u001b[0m\u001b[1;33m.\u001b[0m\u001b[0mOpError\u001b[0m \u001b[1;32mas\u001b[0m \u001b[0me\u001b[0m\u001b[1;33m:\u001b[0m\u001b[1;33m\u001b[0m\u001b[0m\n\u001b[0;32m   1141\u001b[0m       \u001b[0mmessage\u001b[0m \u001b[1;33m=\u001b[0m \u001b[0mcompat\u001b[0m\u001b[1;33m.\u001b[0m\u001b[0mas_text\u001b[0m\u001b[1;33m(\u001b[0m\u001b[0me\u001b[0m\u001b[1;33m.\u001b[0m\u001b[0mmessage\u001b[0m\u001b[1;33m)\u001b[0m\u001b[1;33m\u001b[0m\u001b[0m\n",
      "\u001b[1;32mC:\\Anaconda3\\lib\\site-packages\\tensorflow\\python\\client\\session.py\u001b[0m in \u001b[0;36m_run_fn\u001b[1;34m(session, feed_dict, fetch_list, target_list, options, run_metadata)\u001b[0m\n\u001b[0;32m   1119\u001b[0m         return tf_session.TF_Run(session, options,\n\u001b[0;32m   1120\u001b[0m                                  \u001b[0mfeed_dict\u001b[0m\u001b[1;33m,\u001b[0m \u001b[0mfetch_list\u001b[0m\u001b[1;33m,\u001b[0m \u001b[0mtarget_list\u001b[0m\u001b[1;33m,\u001b[0m\u001b[1;33m\u001b[0m\u001b[0m\n\u001b[1;32m-> 1121\u001b[1;33m                                  status, run_metadata)\n\u001b[0m\u001b[0;32m   1122\u001b[0m \u001b[1;33m\u001b[0m\u001b[0m\n\u001b[0;32m   1123\u001b[0m     \u001b[1;32mdef\u001b[0m \u001b[0m_prun_fn\u001b[0m\u001b[1;33m(\u001b[0m\u001b[0msession\u001b[0m\u001b[1;33m,\u001b[0m \u001b[0mhandle\u001b[0m\u001b[1;33m,\u001b[0m \u001b[0mfeed_dict\u001b[0m\u001b[1;33m,\u001b[0m \u001b[0mfetch_list\u001b[0m\u001b[1;33m)\u001b[0m\u001b[1;33m:\u001b[0m\u001b[1;33m\u001b[0m\u001b[0m\n",
      "\u001b[1;31mKeyboardInterrupt\u001b[0m: "
     ]
    }
   ],
   "source": [
    "max_accuracy = 0\n",
    "for model_name in params[\"model_list\"]:\n",
    "    params[\"model\"] = model_name\n",
    "    best_accuracy = 0\n",
    "\n",
    "    for dropout_num in params[\"dropout_list\"]:\n",
    "        for dense_num in params[\"dense_list\"]:\n",
    "            sess = tf.Session()\n",
    "            K.set_session(sess)\n",
    "            params[\"dense1\"] = {\"num\":dense_num, \"dropout\":dropout_num, \"pool\":\"avg_poolx\", \"activation\":\"relu\"}\n",
    "            params[\"tensorpath\"] = \"./tensor/\" + params['model'] + \"/\" + \"dense_\"+str(dense_num) + \"_dropout_\" + str(dropout_num)\n",
    "            params[\"historypath\"] = \"./history/\" + params['model'] + \"/\" + \"dense_\"+str(dense_num) + \"_dropout_\" + str(dropout_num)\n",
    "            tbd = TensorBoard(log_dir=params[\"tensorpath\"] ,  batch_size=params[\"batch_size\"], write_graph=True )\n",
    "            params[\"history\"] = {}\n",
    "            params[\"history\"][\"val_top_k_categorical_accuracy\"] = []\n",
    "            params[\"history\"][\"val_loss\"] = []\n",
    "            params[\"history\"][\"loss\"] = []\n",
    "            params[\"history\"][\"top_k_categorical_accuracy\"] = []\n",
    "            params[\"history\"][\"acc\"] = []\n",
    "            params[\"history\"][\"val_acc\"] = []            \n",
    "            model = create_model()\n",
    "            epoch_history = log_history()\n",
    "            if not os.path.exists(params['historypath']):\n",
    "                os.makedirs(params['historypath'])\n",
    "            \n",
    "            history = model.fit_generator(generator=train_generator,\n",
    "                         steps_per_epoch = params[\"step_per_epoch\"],\n",
    "                         epochs = params[\"initial_epoch\"],\n",
    "                         use_multiprocessing=False,\n",
    "                         max_queue_size=10,\n",
    "                         workers = params[\"workers\"],     \n",
    "                         validation_data = validation_generator,\n",
    "                         callbacks=[tbd, epoch_history],\n",
    "                         validation_steps = math.ceil(params[\"test_size\"]  / params[\"batch_size\"]))  \n",
    "            \n",
    "            for layer in model.layers[:params[\"train_threshold\"]]:\n",
    "               layer.trainable = False\n",
    "            for layer in model.layers[params[\"train_threshold\"]:]:\n",
    "               layer.trainable = True\n",
    "            params[\"phase2_optimizer\"] = SGD(lr=0.001, momentum=0.9)                       \n",
    "            model.compile(loss=params[\"loss\"], optimizer=params[\"phase2_optimizer\"], metrics=params[\"metrics\"])\n",
    "            history1 = model.fit_generator(generator=train_generator,\n",
    "                         steps_per_epoch = params[\"step_per_epoch\"] ,\n",
    "                         epochs = params[\"final_epoch\"] ,\n",
    "                         initial_epoch= params[\"initial_epoch\"] ,\n",
    "                         use_multiprocessing=False,\n",
    "                         max_queue_size=10,\n",
    "                         workers = params[\"workers\"],                                  \n",
    "                         validation_data = validation_generator,\n",
    "                         callbacks=[tbd, epoch_history],\n",
    "                         validation_steps = math.ceil(params[\"test_size\"]  / params[\"batch_size\"]))\n",
    "                   \n",
    "            final_history = defaultdict(list)\n",
    "\n",
    "            for d in (history.history, history1.history): # you can list as many input dicts as you want here\n",
    "                for key, value in d.items():\n",
    "                    for t in value:\n",
    "                        final_history[key].append(t)\n",
    "            with open(params[\"historypath\"] + \"/history.json\", \"w\") as f:\n",
    "                json.dump(final_history, f)  \n",
    "                \n",
    "            if (history1.history['val_acc'][-1] > best_accuracy):\n",
    "                best_accuracy = history1.history['val_acc'][-1]\n",
    "                model.save(\"model_\" + params[\"model\"] + \".h5\")\n",
    "                with open(params[\"model\"] +\"_history.json\", \"w\") as f:\n",
    "                    json.dump(final_history, f)\n",
    "\n",
    "            if (history1.history['val_acc'][-1] > max_accuracy):\n",
    "                max_accuracy = history1.history['val_acc'][-1]\n",
    "                model.save(\"best_model\" + \".h5\")\n",
    "                with open(\"best_history.json\", \"w\") as f:\n",
    "                    json.dump(final_history, f)\n",
    "            del model\n",
    "            sess.close()\n",
    "            tf.reset_default_graph()\n",
    "\n",
    "            K.clear_session()"
   ]
  },
  {
   "cell_type": "code",
   "execution_count": null,
   "metadata": {
    "collapsed": true
   },
   "outputs": [],
   "source": []
  }
 ],
 "metadata": {
  "kernelspec": {
   "display_name": "Python 3",
   "language": "python",
   "name": "python3"
  },
  "language_info": {
   "codemirror_mode": {
    "name": "ipython",
    "version": 3
   },
   "file_extension": ".py",
   "mimetype": "text/x-python",
   "name": "python",
   "nbconvert_exporter": "python",
   "pygments_lexer": "ipython3",
   "version": "3.6.3"
  }
 },
 "nbformat": 4,
 "nbformat_minor": 2
}
