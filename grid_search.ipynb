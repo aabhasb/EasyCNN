{
 "cells": [
  {
   "cell_type": "code",
   "execution_count": 1,
   "metadata": {},
   "outputs": [],
   "source": [
    "%matplotlib inline\n",
    "%load_ext autoreload\n",
    "%autoreload 2"
   ]
  },
  {
   "cell_type": "code",
   "execution_count": 2,
   "metadata": {},
   "outputs": [
    {
     "name": "stderr",
     "output_type": "stream",
     "text": [
      "Using TensorFlow backend.\n"
     ]
    }
   ],
   "source": [
    "from keras.applications.inception_v3 import InceptionV3\n",
    "from keras.applications.inception_resnet_v2 import InceptionResNetV2\n",
    "from keras.applications.xception import Xception\n",
    "from keras.applications.densenet import DenseNet121\n",
    "from keras.applications.densenet import DenseNet169\n",
    "from keras.applications.densenet import DenseNet201\n",
    "from keras.applications.resnet50 import ResNet50\n",
    "from keras.preprocessing import image\n",
    "from keras.models import Model\n",
    "from keras.layers import Dense, GlobalAveragePooling2D, Dropout\n",
    "from keras import backend as K\n",
    "from keras.preprocessing.image import ImageDataGenerator\n",
    "from keras.optimizers import SGD\n",
    "from keras.optimizers import Adam\n",
    "from keras.metrics import top_k_categorical_accuracy\n",
    "import math\n",
    "from IPython.display import SVG\n",
    "from keras.utils.vis_utils import model_to_dot\n",
    "import matplotlib.pyplot as plt\n",
    "from keras.callbacks import TensorBoard\n",
    "import os\n",
    "import json\n",
    "from collections import defaultdict\n",
    "import keras\n",
    "import tensorflow as tf"
   ]
  },
  {
   "cell_type": "code",
   "execution_count": 3,
   "metadata": {},
   "outputs": [
    {
     "name": "stdout",
     "output_type": "stream",
     "text": [
      "[name: \"/cpu:0\"\n",
      "device_type: \"CPU\"\n",
      "memory_limit: 268435456\n",
      "locality {\n",
      "}\n",
      "incarnation: 13604741915026706716\n",
      "]\n"
     ]
    }
   ],
   "source": [
    "from tensorflow.python.client import device_lib\n",
    "print(device_lib.list_local_devices())"
   ]
  },
  {
   "cell_type": "code",
   "execution_count": 4,
   "metadata": {
    "collapsed": true
   },
   "outputs": [],
   "source": [
    "\n",
    "# params = {}\n",
    "# params[\"train_dir\"] = \"train\"\n",
    "# params[\"test_dir\"] = \"test\"\n",
    "# params[\"batch_size\"] = 8\n",
    "# params[\"img_width\"] = 221\n",
    "# params[\"img_height\"] = 221\n",
    "\n",
    "\n",
    "# params[\"loss\"] = \"categorical_crossentropy\"\n",
    "# params[\"metrics\"] = ['top_k_categorical_accuracy', 'accuracy']\n",
    "# params[\"initial_epoch\"] = 2\n",
    "# params[\"final_epoch\"] = 4\n",
    "# params[\"workers\"] = 8\n",
    "# params[\"step_per_epoch\"] = 32\n",
    "# params[\"train_threshold\"] = 0\n",
    "# params[\"phase1_optimizer\"] = \"adam\"\n",
    "\n",
    "# params[\"model_list\"] = [\"InceptionV3\", \"xception\", \"InceptionResNetV2\", \"DenseNet121\", \"DenseNet169\", \"DenseNet201\"]\n",
    "# params[\"dropout_list\"] = [0.1, 0.2, 0.3]\n",
    "# params[\"dense_list\"] = [512, 1024]\n",
    "\n",
    "# with open(\"params.json\", \"w\") as f:\n",
    "#     json.dump(params, f)\n",
    "    \n"
   ]
  },
  {
   "cell_type": "code",
   "execution_count": 5,
   "metadata": {
    "collapsed": true
   },
   "outputs": [],
   "source": [
    "params = {}\n",
    "\n",
    "with open(\"params_manual.json\", \"r\") as f:\n",
    "    params = json.load(f)\n",
    "\n",
    "params[\"train_size\"] = sum([len(files) for r, d, files in os.walk( params[\"train_dir\"] )])\n",
    "params[\"test_size\"] = sum([len(files) for r, d, files in os.walk( params[\"test_dir\"] )])\n",
    "params[\"classes\"] = sum([len(d) for r, d, files in os.walk( params[\"train_dir\"] )])\n",
    "params[\"phase2_optimizer\"] = SGD(lr=0.001, momentum=0.9)\n",
    "params[\"dense_num\"] = 2\n",
    "params[\"dense2\"] = {\"num\":params[\"classes\"], \"activation\":\"softmax\"}    "
   ]
  },
  {
   "cell_type": "code",
   "execution_count": 6,
   "metadata": {},
   "outputs": [
    {
     "name": "stdout",
     "output_type": "stream",
     "text": [
      "Found 8187 images belonging to 102 classes.\n",
      "Found 957 images belonging to 102 classes.\n"
     ]
    }
   ],
   "source": [
    "train_datagen = ImageDataGenerator(\n",
    "        rescale=1./255,\n",
    "        zoom_range=0.1,\n",
    "        width_shift_range=0.1,\n",
    "        height_shift_range=0.1,\n",
    "        horizontal_flip=True)\n",
    "\n",
    "train_generator = train_datagen.flow_from_directory(\n",
    "        params[\"train_dir\"],\n",
    "        target_size = (params[\"img_width\"], params[\"img_height\"]),\n",
    "        batch_size = params[\"batch_size\"],\n",
    "        shuffle = True,\n",
    "        class_mode = 'categorical')\n",
    "\n",
    "val_datagen = ImageDataGenerator(rescale=1./255)\n",
    "\n",
    "validation_generator = val_datagen.flow_from_directory(\n",
    "        params[\"test_dir\"],\n",
    "        target_size = (params[\"img_width\"], params[\"img_height\"]),\n",
    "        batch_size = params[\"batch_size\"],\n",
    "        shuffle = True,\n",
    "        class_mode = 'categorical')"
   ]
  },
  {
   "cell_type": "code",
   "execution_count": 7,
   "metadata": {
    "collapsed": true
   },
   "outputs": [],
   "source": [
    "def create_model():\n",
    "    base_model=None\n",
    "    if params[\"model\"] == \"InceptionV3\":\n",
    "        params[\"train_threshold\"] = 249\n",
    "        base_model = InceptionV3(weights='imagenet', include_top=False, input_tensor=None, input_shape=(params[\"img_width\"], params[\"img_height\"], 3))\n",
    "    elif params[\"model\"] == \"xception\":\n",
    "        params[\"train_threshold\"] = 106\n",
    "        base_model = Xception(weights='imagenet', include_top=False, input_tensor=None, input_shape=(params[\"img_width\"], params[\"img_height\"], 3))\n",
    "    elif params[\"model\"] == \"InceptionResNetV2\":\n",
    "        params[\"train_threshold\"] = 727\n",
    "        base_model = InceptionResNetV2(weights='imagenet', include_top=False, input_tensor=None, input_shape=(params[\"img_width\"], params[\"img_height\"], 3))\n",
    "    elif params[\"model\"] == \"DenseNet121\":\n",
    "        params[\"train_threshold\"] = 403\n",
    "        base_model = DenseNet121(weights='imagenet', include_top=False, input_tensor=None, input_shape=(params[\"img_width\"], params[\"img_height\"], 3))    \n",
    "    elif params[\"model\"] == \"DenseNet169\": \n",
    "        params[\"train_threshold\"] = 571\n",
    "        base_model = DenseNet169(weights='imagenet', include_top=False, input_tensor=None, input_shape=(params[\"img_width\"], params[\"img_height\"], 3))    \n",
    "    elif params[\"model\"] == \"DenseNet201\":\n",
    "        params[\"train_threshold\"] = 683\n",
    "        base_model = DenseNet201(weights='imagenet', include_top=False, input_tensor=None, input_shape=(params[\"img_width\"], params[\"img_height\"], 3))    \n",
    "    elif params[\"model\"] == \"ResNet50\":\n",
    "        params[\"train_threshold\"] = 140\n",
    "        base_model = ResNet50(weights='imagenet', include_top=False, input_tensor=None, pooling=None, input_shape=(params[\"img_width\"], params[\"img_height\"], 3))    \n",
    "    else:\n",
    "        print(\"unknown model\")\n",
    "\n",
    "    count = 0\n",
    "    modelx = base_model.output\n",
    "\n",
    "    while count < params[\"dense_num\"]:\n",
    "        count += 1\n",
    "        string = \"dense\"+str(count)\n",
    "\n",
    "        if \"pool\" in params[string]:\n",
    "            if params[string][\"pool\"] == \"avg_poolx\":\n",
    "                modelx = GlobalAveragePooling2D(name=params[string][\"pool\"])(modelx)\n",
    "\n",
    "        modelx = Dense(params[string][\"num\"], activation = params[string][\"activation\"])(modelx)\n",
    "    \n",
    "        if \"dropout\" in params[string]:\n",
    "            modelx = Dropout(params[string][\"dropout\"])(modelx)\n",
    "        \n",
    "    model = Model(inputs=base_model.input, output=modelx)\n",
    "\n",
    "    for layer in base_model.layers:\n",
    "        layer.trainable = False\n",
    "\n",
    "    model.compile(loss=params[\"loss\"], optimizer=params[\"phase1_optimizer\"], metrics=params[\"metrics\"])\n",
    "    \n",
    "    return model"
   ]
  },
  {
   "cell_type": "code",
   "execution_count": null,
   "metadata": {
    "collapsed": true
   },
   "outputs": [],
   "source": [
    "class log_history(keras.callbacks.Callback):\n",
    "    def on_train_begin(self, logs={}):\n",
    "        pass\n",
    "     \n",
    "    def on_batch_end(self, batch, logs={}):     \n",
    "        params[\"batch\"][\"loss\"].append(str(logs.get('loss')))        \n",
    "        params[\"batch\"][\"top_k_categorical_accuracy\"].append(str(logs.get('top_k_categorical_accuracy')))          \n",
    "        params[\"batch\"][\"acc\"].append(str(logs.get('acc')))\n",
    "        #print(params[\"history\"])\n",
    "        with open(params[\"historypath\"] + \"/batch.json\", \"w\") as f:\n",
    "            json.dump(params[\"batch\"], f)     \n",
    "    \n",
    "    def on_epoch_end(self, batch, logs={}):\n",
    "        params[\"history\"][\"val_top_k_categorical_accuracy\"].append(logs.get('val_top_k_categorical_accuracy'))\n",
    "        params[\"history\"][\"val_loss\"].append(logs.get('val_loss'))        \n",
    "        params[\"history\"][\"loss\"].append(logs.get('loss'))        \n",
    "        params[\"history\"][\"top_k_categorical_accuracy\"].append(logs.get('top_k_categorical_accuracy'))          \n",
    "        params[\"history\"][\"acc\"].append(logs.get('acc'))\n",
    "        params[\"history\"][\"val_acc\"].append(logs.get('val_acc')) \n",
    "        #print(params[\"history\"])\n",
    "        with open(params[\"historypath\"] + \"/epoch.json\", \"w\") as f:\n",
    "            json.dump(params[\"history\"], f)         "
   ]
  },
  {
   "cell_type": "code",
   "execution_count": null,
   "metadata": {},
   "outputs": [
    {
     "name": "stderr",
     "output_type": "stream",
     "text": [
      "C:\\Anaconda3\\lib\\site-packages\\ipykernel_launcher.py:43: UserWarning: Update your `Model` call to the Keras 2 API: `Model(inputs=Tensor(\"in..., outputs=Tensor(\"de...)`\n"
     ]
    },
    {
     "name": "stdout",
     "output_type": "stream",
     "text": [
      "Epoch 1/2\n",
      "31/32 [============================>.] - ETA: 1s - loss: 4.7661 - top_k_categorical_accuracy: 0.2097"
     ]
    }
   ],
   "source": [
    "max_accuracy = 0\n",
    "for model_name in params[\"model_list\"]:\n",
    "    params[\"model\"] = model_name\n",
    "    best_accuracy = 0\n",
    "\n",
    "    for dropout_num in params[\"dropout_list\"]:\n",
    "        for dense_num in params[\"dense_list\"]:\n",
    "            sess = tf.Session()\n",
    "            K.set_session(sess)\n",
    "            params[\"dense1\"] = {\"num\":dense_num, \"dropout\":dropout_num, \"pool\":\"avg_poolx\", \"activation\":\"relu\"}\n",
    "            params[\"tensorpath\"] = \"./tensor/\" + params['model'] + \"/\" + \"dense_\"+str(dense_num) + \"_dropout_\" + str(dropout_num)\n",
    "            params[\"historypath\"] = \"./history/\" + params['model'] + \"/\" + \"dense_\"+str(dense_num) + \"_dropout_\" + str(dropout_num)\n",
    "            tbd = TensorBoard(log_dir=params[\"tensorpath\"] ,  batch_size=params[\"batch_size\"], write_graph=True )\n",
    "            params[\"history\"] = {}\n",
    "            params[\"history\"][\"val_top_k_categorical_accuracy\"] = []\n",
    "            params[\"history\"][\"val_loss\"] = []\n",
    "            params[\"history\"][\"loss\"] = []\n",
    "            params[\"history\"][\"top_k_categorical_accuracy\"] = []\n",
    "            params[\"history\"][\"acc\"] = []\n",
    "            params[\"history\"][\"val_acc\"] = []\n",
    "            params[\"batch\"] = {}\n",
    "            params[\"batch\"][\"loss\"] = []\n",
    "            params[\"batch\"][\"acc\"] = []\n",
    "            params[\"batch\"][\"top_k_categorical_accuracy\"] = []            \n",
    "            model = create_model()\n",
    "            epoch_history = log_history()\n",
    "            if not os.path.exists(params['historypath']):\n",
    "                os.makedirs(params['historypath'])\n",
    "            \n",
    "            history = model.fit_generator(generator=train_generator,\n",
    "                         steps_per_epoch = params[\"step_per_epoch\"],\n",
    "                         epochs = params[\"initial_epoch\"],\n",
    "                         use_multiprocessing=False,\n",
    "                         max_queue_size=10,\n",
    "                         workers = params[\"workers\"],     \n",
    "                         validation_data = validation_generator,\n",
    "                         callbacks=[tbd, epoch_history],\n",
    "                         validation_steps = math.ceil(params[\"test_size\"]  / params[\"batch_size\"]))  \n",
    "            \n",
    "            for layer in model.layers[:params[\"train_threshold\"]]:\n",
    "               layer.trainable = False\n",
    "            for layer in model.layers[params[\"train_threshold\"]:]:\n",
    "               layer.trainable = True\n",
    "            params[\"phase2_optimizer\"] = SGD(lr=0.001, momentum=0.9)                       \n",
    "            model.compile(loss=params[\"loss\"], optimizer=params[\"phase2_optimizer\"], metrics=params[\"metrics\"])\n",
    "            history1 = model.fit_generator(generator=train_generator,\n",
    "                         steps_per_epoch = params[\"step_per_epoch\"] ,\n",
    "                         epochs = params[\"final_epoch\"] ,\n",
    "                         initial_epoch= params[\"initial_epoch\"] ,\n",
    "                         use_multiprocessing=False,\n",
    "                         max_queue_size=10,\n",
    "                         workers = params[\"workers\"],                                  \n",
    "                         validation_data = validation_generator,\n",
    "                         callbacks=[tbd, epoch_history],\n",
    "                         validation_steps = math.ceil(params[\"test_size\"]  / params[\"batch_size\"]))\n",
    "                   \n",
    "            final_history = defaultdict(list)\n",
    "\n",
    "            for d in (history.history, history1.history): # you can list as many input dicts as you want here\n",
    "                for key, value in d.items():\n",
    "                    for t in value:\n",
    "                        final_history[key].append(t)\n",
    "            with open(params[\"historypath\"] + \"/history.json\", \"w\") as f:\n",
    "                json.dump(final_history, f)  \n",
    "                \n",
    "            if (history1.history['val_acc'][-1] > best_accuracy):\n",
    "                best_accuracy = history1.history['val_acc'][-1]\n",
    "                model.save(\"model_\" + params[\"model\"] + \".h5\")\n",
    "                with open(params[\"model\"] +\"_history.json\", \"w\") as f:\n",
    "                    json.dump(final_history, f)\n",
    "\n",
    "            if (history1.history['val_acc'][-1] > max_accuracy):\n",
    "                max_accuracy = history1.history['val_acc'][-1]\n",
    "                model.save(\"best_model\" + \".h5\")\n",
    "                with open(\"best_history.json\", \"w\") as f:\n",
    "                    json.dump(final_history, f)\n",
    "            del model\n",
    "            sess.close()\n",
    "            tf.reset_default_graph()\n",
    "\n",
    "            K.clear_session()"
   ]
  },
  {
   "cell_type": "code",
   "execution_count": null,
   "metadata": {
    "collapsed": true
   },
   "outputs": [],
   "source": []
  }
 ],
 "metadata": {
  "kernelspec": {
   "display_name": "Python 3",
   "language": "python",
   "name": "python3"
  },
  "language_info": {
   "codemirror_mode": {
    "name": "ipython",
    "version": 3
   },
   "file_extension": ".py",
   "mimetype": "text/x-python",
   "name": "python",
   "nbconvert_exporter": "python",
   "pygments_lexer": "ipython3",
   "version": "3.6.3"
  }
 },
 "nbformat": 4,
 "nbformat_minor": 2
}
