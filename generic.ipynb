{
 "cells": [
  {
   "cell_type": "code",
   "execution_count": 1,
   "metadata": {},
   "outputs": [],
   "source": [
    "%matplotlib inline\n",
    "%load_ext autoreload\n",
    "%autoreload 2"
   ]
  },
  {
   "cell_type": "code",
   "execution_count": 2,
   "metadata": {},
   "outputs": [
    {
     "name": "stderr",
     "output_type": "stream",
     "text": [
      "Using TensorFlow backend.\n"
     ]
    }
   ],
   "source": [
    "from keras.applications.inception_v3 import InceptionV3\n",
    "from keras.applications.inception_resnet_v2 import InceptionResNetV2\n",
    "from keras.applications.xception import Xception\n",
    "from keras.applications.densenet import DenseNet121\n",
    "from keras.applications.densenet import DenseNet169\n",
    "from keras.applications.densenet import DenseNet201\n",
    "from keras.applications.resnet50 import ResNet50\n",
    "from keras.preprocessing import image\n",
    "from keras.models import Model\n",
    "from keras.layers import Dense, GlobalAveragePooling2D, Dropout\n",
    "from keras import backend as K\n",
    "from keras.preprocessing.image import ImageDataGenerator\n",
    "from keras.optimizers import SGD\n",
    "from keras.optimizers import Adam\n",
    "from keras.metrics import top_k_categorical_accuracy\n",
    "import math\n",
    "from IPython.display import SVG\n",
    "from keras.utils.vis_utils import model_to_dot\n",
    "import matplotlib.pyplot as plt\n",
    "from keras.callbacks import TensorBoard\n",
    "import os"
   ]
  },
  {
   "cell_type": "code",
   "execution_count": 3,
   "metadata": {},
   "outputs": [
    {
     "name": "stdout",
     "output_type": "stream",
     "text": [
      "[name: \"/device:CPU:0\"\n",
      "device_type: \"CPU\"\n",
      "memory_limit: 268435456\n",
      "locality {\n",
      "}\n",
      "incarnation: 13558302442696943548\n",
      ", name: \"/device:GPU:0\"\n",
      "device_type: \"GPU\"\n",
      "memory_limit: 3282324684\n",
      "locality {\n",
      "  bus_id: 1\n",
      "}\n",
      "incarnation: 6761443869010379453\n",
      "physical_device_desc: \"device: 0, name: GeForce GTX 950M, pci bus id: 0000:01:00.0, compute capability: 5.0\"\n",
      "]\n"
     ]
    }
   ],
   "source": [
    "from tensorflow.python.client import device_lib\n",
    "print(device_lib.list_local_devices())"
   ]
  },
  {
   "cell_type": "code",
   "execution_count": 13,
   "metadata": {},
   "outputs": [],
   "source": [
    "\n",
    "params = {}\n",
    "params[\"train_dir\"] = \"train\"\n",
    "params[\"test_dir\"] = \"test\"\n",
    "params[\"batch_size\"] = 64\n",
    "params[\"img_width\"] = 221\n",
    "params[\"img_height\"] = 221\n",
    "params[\"train_size\"] = sum([len(files) for r, d, files in os.walk( params[\"train_dir\"] )])\n",
    "params[\"test_size\"] = sum([len(files) for r, d, files in os.walk( params[\"test_dir\"] )])\n",
    "params[\"model\"] = \"ResNet50\"\n",
    "params[\"classes\"] = sum([len(d) for r, d, files in os.walk( params[\"train_dir\"] )])\n",
    "params[\"dense_num\"] = 2\n",
    "params[\"dense1\"] = {\"num\":1024, \"dropout\":0.1, \"pool\":\"avg_poolx\", \"activation\":\"relu\"}\n",
    "params[\"dense2\"] = {\"num\":102, \"activation\":\"softmax\"}\n",
    "params[\"loss\"] = \"categorical_crossentropy\"\n",
    "params[\"optimizer\"] = \"adam\"\n",
    "params[\"metrics\"] = [top_k_categorical_accuracy, 'accuracy']\n",
    "params[\"initial_epoch\"] = 5\n",
    "params[\"final_epoch\"] = 10\n",
    "params[\"workers\"] = 8\n",
    "params[\"step_per_epoch\"] = 80\n",
    "params[\"train_threshold\"] = 0\n",
    "params[\"phase1_optimizer\"] = \"adam\"\n",
    "params[\"phase2_optimizer\"] = SGD(lr=0.001, momentum=0.9)"
   ]
  },
  {
   "cell_type": "code",
   "execution_count": 5,
   "metadata": {},
   "outputs": [
    {
     "name": "stdout",
     "output_type": "stream",
     "text": [
      "Found 8187 images belonging to 102 classes.\n",
      "Found 957 images belonging to 102 classes.\n"
     ]
    }
   ],
   "source": [
    "train_datagen = ImageDataGenerator(\n",
    "        rescale=1./255,\n",
    "        zoom_range=0.1,\n",
    "        width_shift_range=0.1,\n",
    "        height_shift_range=0.1,\n",
    "        horizontal_flip=True)\n",
    "\n",
    "train_generator = train_datagen.flow_from_directory(\n",
    "        params[\"train_dir\"],\n",
    "        target_size = (params[\"img_width\"], params[\"img_height\"]),\n",
    "        batch_size = params[\"batch_size\"],\n",
    "        shuffle = True,\n",
    "        class_mode = 'categorical')\n",
    "\n",
    "val_datagen = ImageDataGenerator(rescale=1./255)\n",
    "\n",
    "validation_generator = val_datagen.flow_from_directory(\n",
    "        params[\"test_dir\"],\n",
    "        target_size = (params[\"img_width\"], params[\"img_height\"]),\n",
    "        batch_size = params[\"batch_size\"],\n",
    "        shuffle = True,\n",
    "        class_mode = 'categorical')"
   ]
  },
  {
   "cell_type": "code",
   "execution_count": 6,
   "metadata": {},
   "outputs": [
    {
     "name": "stdout",
     "output_type": "stream",
     "text": [
      "entering\n",
      "2\n",
      "dense1string_name\n",
      "dense1pool avg_poolx\n",
      "dense1sense 1024\n",
      "dropout dense10.1\n",
      "dense2string_name\n",
      "dense2sense 102\n"
     ]
    },
    {
     "name": "stderr",
     "output_type": "stream",
     "text": [
      "C:\\Users\\zxcve\\Anaconda3\\lib\\site-packages\\ipykernel\\__main__.py:48: UserWarning: Update your `Model` call to the Keras 2 API: `Model(inputs=Tensor(\"in..., outputs=Tensor(\"de...)`\n"
     ]
    }
   ],
   "source": [
    "base_model=None\n",
    "if params[\"model\"] == \"InceptionV3\":\n",
    "    params[\"train_threshold\"] = 249\n",
    "    base_model = InceptionV3(weights='imagenet', include_top=False, input_tensor=None, input_shape=(params[\"img_width\"], params[\"img_height\"], 3))\n",
    "    print(\"par\" + str(params[\"img_width\"]))\n",
    "elif params[\"model\"] == \"xception\":\n",
    "    params[\"train_threshold\"] = 106\n",
    "    base_model = Xception(weights='imagenet', include_top=False, input_tensor=None, input_shape=(params[\"img_width\"], params[\"img_height\"], 3))\n",
    "elif params[\"model\"] == \"InceptionResNetV2\":\n",
    "    params[\"train_threshold\"] = 727\n",
    "    base_model = InceptionResNetV2(weights='imagenet', include_top=False, input_tensor=None, input_shape=(params[\"img_width\"], params[\"img_height\"], 3))\n",
    "elif params[\"model\"] == \"DenseNet121\":\n",
    "    params[\"train_threshold\"] = 403\n",
    "    base_model = DenseNet121(weights='imagenet', include_top=False, input_tensor=None, input_shape=(params[\"img_width\"], params[\"img_height\"], 3))    \n",
    "elif params[\"model\"] == \"DenseNet169\": \n",
    "    params[\"train_threshold\"] = 571\n",
    "    base_model = DenseNet169(weights='imagenet', include_top=False, input_tensor=None, input_shape=(params[\"img_width\"], params[\"img_height\"], 3))    \n",
    "elif params[\"model\"] == \"DenseNet201\":\n",
    "    params[\"train_threshold\"] = 683\n",
    "    base_model = DenseNet201(weights='imagenet', include_top=False, input_tensor=None, input_shape=(params[\"img_width\"], params[\"img_height\"], 3))    \n",
    "elif params[\"model\"] == \"ResNet50\":\n",
    "    params[\"train_threshold\"] = 140\n",
    "    base_model = ResNet50(weights='imagenet', include_top=False, input_tensor=None, pooling=None, input_shape=(params[\"img_width\"], params[\"img_height\"], 3))    \n",
    "else:\n",
    "    print(\"unknown model\")\n",
    "count = 0\n",
    "print(\"entering\")\n",
    "modelx = base_model.output\n",
    "print(params[\"dense_num\"])\n",
    "\n",
    "while count < params[\"dense_num\"]:\n",
    "    count += 1\n",
    "    string = \"dense\"+str(count)\n",
    "    print(string + \"string_name\")\n",
    "\n",
    "    if \"pool\" in params[string]:\n",
    "        if params[string][\"pool\"] == \"avg_poolx\":\n",
    "            print(string + \"pool \" + params[string][\"pool\"])\n",
    "            modelx = GlobalAveragePooling2D(name=params[string][\"pool\"])(modelx)\n",
    "    print(string + \"sense \" + str(params[string][\"num\"]))\n",
    "\n",
    "    modelx = Dense(params[string][\"num\"], activation = params[string][\"activation\"])(modelx)\n",
    "    \n",
    "    if \"dropout\" in params[string]:\n",
    "        print(\"dropout \" + string + str(params[string][\"dropout\"]))\n",
    "        modelx = Dropout(params[string][\"dropout\"])(modelx)\n",
    "        \n",
    "model = Model(inputs=base_model.input, output=modelx)\n",
    "\n",
    "for layer in base_model.layers:\n",
    "    layer.trainable = False\n",
    "\n",
    "model.compile(loss=params[\"loss\"], optimizer=params[\"phase1_optimizer\"], metrics=params[\"metrics\"])"
   ]
  },
  {
   "cell_type": "code",
   "execution_count": 7,
   "metadata": {},
   "outputs": [],
   "source": [
    "tbd = TensorBoard(log_dir='./logs_' + params[\"model\"] ,  batch_size=params[\"batch_size\"], write_graph=True )"
   ]
  },
  {
   "cell_type": "code",
   "execution_count": 8,
   "metadata": {},
   "outputs": [],
   "source": [
    "from keras.utils import plot_model\n",
    "plot_model(model, to_file=params[\"model\"] + '.png')"
   ]
  },
  {
   "cell_type": "code",
   "execution_count": 9,
   "metadata": {},
   "outputs": [
    {
     "name": "stdout",
     "output_type": "stream",
     "text": [
      "Epoch 1/5\n",
      "80/80 [==============================] - 186s 2s/step - loss: 1.3838 - top_k_categorical_accuracy: 0.8347 - acc: 0.6954 - val_loss: 5.0486 - val_top_k_categorical_accuracy: 0.0857 - val_acc: 0.0481\n",
      "Epoch 2/5\n",
      "80/80 [==============================] - 180s 2s/step - loss: 0.5036 - top_k_categorical_accuracy: 0.9666 - acc: 0.8615 - val_loss: 5.6967 - val_top_k_categorical_accuracy: 0.0690 - val_acc: 0.0481\n",
      "Epoch 3/5\n",
      "80/80 [==============================] - 180s 2s/step - loss: 0.3386 - top_k_categorical_accuracy: 0.9835 - acc: 0.9061 - val_loss: 6.8228 - val_top_k_categorical_accuracy: 0.1348 - val_acc: 0.0481\n",
      "Epoch 4/5\n",
      "80/80 [==============================] - 180s 2s/step - loss: 0.2125 - top_k_categorical_accuracy: 0.9947 - acc: 0.9376 - val_loss: 6.8630 - val_top_k_categorical_accuracy: 0.1014 - val_acc: 0.0481\n",
      "Epoch 5/5\n",
      "80/80 [==============================] - 181s 2s/step - loss: 0.1961 - top_k_categorical_accuracy: 0.9949 - acc: 0.9426 - val_loss: 6.2322 - val_top_k_categorical_accuracy: 0.1661 - val_acc: 0.0481\n"
     ]
    }
   ],
   "source": [
    "history = model.fit_generator(generator=train_generator,\n",
    "                         steps_per_epoch = params[\"step_per_epoch\"],\n",
    "                         epochs = params[\"initial_epoch\"],\n",
    "                         use_multiprocessing=False,\n",
    "                         max_queue_size=10,\n",
    "                         workers = params[\"workers\"],     \n",
    "                         validation_data = validation_generator,\n",
    "                         callbacks=[tbd ],\n",
    "                         validation_steps = math.ceil(params[\"test_size\"]  / params[\"batch_size\"]))"
   ]
  },
  {
   "cell_type": "code",
   "execution_count": 10,
   "metadata": {},
   "outputs": [
    {
     "name": "stdout",
     "output_type": "stream",
     "text": [
      "dict_keys(['val_loss', 'val_top_k_categorical_accuracy', 'val_acc', 'loss', 'top_k_categorical_accuracy', 'acc'])\n"
     ]
    },
    {
     "data": {
      "image/png": "[encoded data removed]",
      "text/plain": [
       "<matplotlib.figure.Figure at 0x24f7e380eb8>"
      ]
     },
     "metadata": {},
     "output_type": "display_data"
    }
   ],
   "source": [
    "print(history.history.keys())\n",
    "plt.plot(history.history['acc'])\n",
    "plt.plot(history.history['val_acc'])\n",
    "plt.title(params[\"model\"] + ' model accuracy')\n",
    "plt.ylabel('accuracy')\n",
    "plt.xlabel('epoch')\n",
    "plt.legend(['train', 'test'], loc='upper left')\n",
    "plt.show()"
   ]
  },
  {
   "cell_type": "code",
   "execution_count": 11,
   "metadata": {},
   "outputs": [
    {
     "name": "stdout",
     "output_type": "stream",
     "text": [
      "0 input_1\n",
      "1 conv1\n",
      "2 bn_conv1\n",
      "3 activation_1\n",
      "4 max_pooling2d_1\n",
      "5 res2a_branch2a\n",
      "6 bn2a_branch2a\n",
      "7 activation_2\n",
      "8 res2a_branch2b\n",
      "9 bn2a_branch2b\n",
      "10 activation_3\n",
      "11 res2a_branch2c\n",
      "12 res2a_branch1\n",
      "13 bn2a_branch2c\n",
      "14 bn2a_branch1\n",
      "15 add_1\n",
      "16 activation_4\n",
      "17 res2b_branch2a\n",
      "18 bn2b_branch2a\n",
      "19 activation_5\n",
      "20 res2b_branch2b\n",
      "21 bn2b_branch2b\n",
      "22 activation_6\n",
      "23 res2b_branch2c\n",
      "24 bn2b_branch2c\n",
      "25 add_2\n",
      "26 activation_7\n",
      "27 res2c_branch2a\n",
      "28 bn2c_branch2a\n",
      "29 activation_8\n",
      "30 res2c_branch2b\n",
      "31 bn2c_branch2b\n",
      "32 activation_9\n",
      "33 res2c_branch2c\n",
      "34 bn2c_branch2c\n",
      "35 add_3\n",
      "36 activation_10\n",
      "37 res3a_branch2a\n",
      "38 bn3a_branch2a\n",
      "39 activation_11\n",
      "40 res3a_branch2b\n",
      "41 bn3a_branch2b\n",
      "42 activation_12\n",
      "43 res3a_branch2c\n",
      "44 res3a_branch1\n",
      "45 bn3a_branch2c\n",
      "46 bn3a_branch1\n",
      "47 add_4\n",
      "48 activation_13\n",
      "49 res3b_branch2a\n",
      "50 bn3b_branch2a\n",
      "51 activation_14\n",
      "52 res3b_branch2b\n",
      "53 bn3b_branch2b\n",
      "54 activation_15\n",
      "55 res3b_branch2c\n",
      "56 bn3b_branch2c\n",
      "57 add_5\n",
      "58 activation_16\n",
      "59 res3c_branch2a\n",
      "60 bn3c_branch2a\n",
      "61 activation_17\n",
      "62 res3c_branch2b\n",
      "63 bn3c_branch2b\n",
      "64 activation_18\n",
      "65 res3c_branch2c\n",
      "66 bn3c_branch2c\n",
      "67 add_6\n",
      "68 activation_19\n",
      "69 res3d_branch2a\n",
      "70 bn3d_branch2a\n",
      "71 activation_20\n",
      "72 res3d_branch2b\n",
      "73 bn3d_branch2b\n",
      "74 activation_21\n",
      "75 res3d_branch2c\n",
      "76 bn3d_branch2c\n",
      "77 add_7\n",
      "78 activation_22\n",
      "79 res4a_branch2a\n",
      "80 bn4a_branch2a\n",
      "81 activation_23\n",
      "82 res4a_branch2b\n",
      "83 bn4a_branch2b\n",
      "84 activation_24\n",
      "85 res4a_branch2c\n",
      "86 res4a_branch1\n",
      "87 bn4a_branch2c\n",
      "88 bn4a_branch1\n",
      "89 add_8\n",
      "90 activation_25\n",
      "91 res4b_branch2a\n",
      "92 bn4b_branch2a\n",
      "93 activation_26\n",
      "94 res4b_branch2b\n",
      "95 bn4b_branch2b\n",
      "96 activation_27\n",
      "97 res4b_branch2c\n",
      "98 bn4b_branch2c\n",
      "99 add_9\n",
      "100 activation_28\n",
      "101 res4c_branch2a\n",
      "102 bn4c_branch2a\n",
      "103 activation_29\n",
      "104 res4c_branch2b\n",
      "105 bn4c_branch2b\n",
      "106 activation_30\n",
      "107 res4c_branch2c\n",
      "108 bn4c_branch2c\n",
      "109 add_10\n",
      "110 activation_31\n",
      "111 res4d_branch2a\n",
      "112 bn4d_branch2a\n",
      "113 activation_32\n",
      "114 res4d_branch2b\n",
      "115 bn4d_branch2b\n",
      "116 activation_33\n",
      "117 res4d_branch2c\n",
      "118 bn4d_branch2c\n",
      "119 add_11\n",
      "120 activation_34\n",
      "121 res4e_branch2a\n",
      "122 bn4e_branch2a\n",
      "123 activation_35\n",
      "124 res4e_branch2b\n",
      "125 bn4e_branch2b\n",
      "126 activation_36\n",
      "127 res4e_branch2c\n",
      "128 bn4e_branch2c\n",
      "129 add_12\n",
      "130 activation_37\n",
      "131 res4f_branch2a\n",
      "132 bn4f_branch2a\n",
      "133 activation_38\n",
      "134 res4f_branch2b\n",
      "135 bn4f_branch2b\n",
      "136 activation_39\n",
      "137 res4f_branch2c\n",
      "138 bn4f_branch2c\n",
      "139 add_13\n",
      "140 activation_40\n",
      "141 res5a_branch2a\n",
      "142 bn5a_branch2a\n",
      "143 activation_41\n",
      "144 res5a_branch2b\n",
      "145 bn5a_branch2b\n",
      "146 activation_42\n",
      "147 res5a_branch2c\n",
      "148 res5a_branch1\n",
      "149 bn5a_branch2c\n",
      "150 bn5a_branch1\n",
      "151 add_14\n",
      "152 activation_43\n",
      "153 res5b_branch2a\n",
      "154 bn5b_branch2a\n",
      "155 activation_44\n",
      "156 res5b_branch2b\n",
      "157 bn5b_branch2b\n",
      "158 activation_45\n",
      "159 res5b_branch2c\n",
      "160 bn5b_branch2c\n",
      "161 add_15\n",
      "162 activation_46\n",
      "163 res5c_branch2a\n",
      "164 bn5c_branch2a\n",
      "165 activation_47\n",
      "166 res5c_branch2b\n",
      "167 bn5c_branch2b\n",
      "168 activation_48\n",
      "169 res5c_branch2c\n",
      "170 bn5c_branch2c\n",
      "171 add_16\n",
      "172 activation_49\n",
      "173 avg_pool\n"
     ]
    }
   ],
   "source": [
    "for i, layer in enumerate(base_model.layers):\n",
    "   print(i, layer.name)\n",
    "\n",
    "for layer in model.layers[:params[\"train_threshold\"]]:\n",
    "   layer.trainable = False\n",
    "for layer in model.layers[params[\"train_threshold\"]:]:\n",
    "   layer.trainable = True"
   ]
  },
  {
   "cell_type": "code",
   "execution_count": 14,
   "metadata": {},
   "outputs": [],
   "source": [
    "model.compile(loss=params[\"loss\"], optimizer=params[\"phase2_optimizer\"], metrics=params[\"metrics\"])"
   ]
  },
  {
   "cell_type": "code",
   "execution_count": null,
   "metadata": {},
   "outputs": [],
   "source": [
    "history1 = model.fit_generator(generator=train_generator,\n",
    "                         steps_per_epoch = params[\"step_per_epoch\"] ,\n",
    "                         epochs = params[\"final_epoch\"] ,\n",
    "                         initial_epoch= params[\"initial_epoch\"] ,\n",
    "                         use_multiprocessing=False,\n",
    "                         max_queue_size=10,\n",
    "                         workers = params[\"workers\"],                                  \n",
    "                         validation_data = validation_generator,\n",
    "                         callbacks=[tbd],\n",
    "                         validation_steps = math.ceil(params[\"test_size\"]  / params[\"batch_size\"]))\n"
   ]
  },
  {
   "cell_type": "code",
   "execution_count": null,
   "metadata": {},
   "outputs": [],
   "source": [
    "model.save_weights(\"model_\" + params[\"model\"] + \".h5\")"
   ]
  },
  {
   "cell_type": "code",
   "execution_count": null,
   "metadata": {},
   "outputs": [],
   "source": [
    "print(history1.history.keys())\n",
    "plt.plot(history1.history['acc'])\n",
    "plt.plot(history1.history['val_acc'])\n",
    "plt.title(params[\"model\"] + ' model accuracy')\n",
    "plt.ylabel('accuracy')\n",
    "plt.xlabel('epoch')\n",
    "plt.legend(['train', 'test'], loc='upper left')\n",
    "plt.show()"
   ]
  },
  {
   "cell_type": "code",
   "execution_count": null,
   "metadata": {},
   "outputs": [],
   "source": [
    "import pickle\n",
    "with open(params[\"model\"] + \".history0\", \"wb\") as f:\n",
    "    pickle.dump(history.history, f, pickle.HIGHEST_PROTOCOL)\n",
    "with open(params[\"model\"] + \".history1\", \"wb\") as f:\n",
    "    pickle.dump(history1.history, f, pickle.HIGHEST_PROTOCOL)"
   ]
  },
  {
   "cell_type": "code",
   "execution_count": null,
   "metadata": {},
   "outputs": [],
   "source": []
  }
 ],
 "metadata": {
  "kernelspec": {
   "display_name": "Python [conda root]",
   "language": "python",
   "name": "conda-root-py"
  },
  "language_info": {
   "codemirror_mode": {
    "name": "ipython",
    "version": 3
   },
   "file_extension": ".py",
   "mimetype": "text/x-python",
   "name": "python",
   "nbconvert_exporter": "python",
   "pygments_lexer": "ipython3",
   "version": "3.6.3"
  }
 },
 "nbformat": 4,
 "nbformat_minor": 2
}
