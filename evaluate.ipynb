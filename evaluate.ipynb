{
 "cells": [
  {
   "cell_type": "code",
   "execution_count": 1,
   "metadata": {
    "collapsed": true
   },
   "outputs": [],
   "source": [
    "%matplotlib inline\n",
    "%load_ext autoreload\n",
    "%autoreload 2"
   ]
  },
  {
   "cell_type": "code",
   "execution_count": 2,
   "metadata": {},
   "outputs": [
    {
     "name": "stderr",
     "output_type": "stream",
     "text": [
      "Using TensorFlow backend.\n"
     ]
    }
   ],
   "source": [
    "from keras.preprocessing import image\n",
    "from keras.models import Model\n",
    "from keras import backend as K\n",
    "from keras.preprocessing.image import ImageDataGenerator\n",
    "import math\n",
    "from IPython.display import SVG\n",
    "import matplotlib.pyplot as plt\n",
    "import os\n",
    "import json\n",
    "import keras\n",
    "import tensorflow as tf"
   ]
  },
  {
   "cell_type": "code",
   "execution_count": 3,
   "metadata": {},
   "outputs": [
    {
     "name": "stdout",
     "output_type": "stream",
     "text": [
      "[name: \"/device:CPU:0\"\n",
      "device_type: \"CPU\"\n",
      "memory_limit: 268435456\n",
      "locality {\n",
      "}\n",
      "incarnation: 15330142053481496252\n",
      ", name: \"/device:GPU:0\"\n",
      "device_type: \"GPU\"\n",
      "memory_limit: 3282324684\n",
      "locality {\n",
      "  bus_id: 1\n",
      "}\n",
      "incarnation: 5161312160380008554\n",
      "physical_device_desc: \"device: 0, name: GeForce GTX 950M, pci bus id: 0000:01:00.0, compute capability: 5.0\"\n",
      "]\n"
     ]
    }
   ],
   "source": [
    "from tensorflow.python.client import device_lib\n",
    "print(device_lib.list_local_devices())"
   ]
  },
  {
   "cell_type": "code",
   "execution_count": 4,
   "metadata": {
    "collapsed": true
   },
   "outputs": [],
   "source": [
    "\n",
    "params = {}\n",
    "params[\"test_dir\"] = \"test\"\n",
    "params[\"batch_size\"] = 64\n",
    "params[\"img_width\"] = 221\n",
    "params[\"img_height\"] = 221\n",
    "params[\"workers\"] = 8\n",
    "params[\"model_file\"] = \"best_model.h5\"\n",
    "\n",
    "with open(\"params_evaluate.json\", \"w\") as f:\n",
    "    json.dump(params, f)"
   ]
  },
  {
   "cell_type": "code",
   "execution_count": 5,
   "metadata": {
    "collapsed": true
   },
   "outputs": [],
   "source": [
    "params = {}\n",
    "\n",
    "with open(\"params_evaluate.json\", \"r\") as f:\n",
    "    params = json.load(f)\n",
    "\n",
    "params[\"test_size\"] = sum([len(files) for r, d, files in os.walk( params[\"test_dir\"] )])"
   ]
  },
  {
   "cell_type": "code",
   "execution_count": 7,
   "metadata": {},
   "outputs": [
    {
     "name": "stdout",
     "output_type": "stream",
     "text": [
      "Found 957 images belonging to 102 classes.\n"
     ]
    }
   ],
   "source": [
    "val_datagen = ImageDataGenerator(rescale=1./255)\n",
    "\n",
    "validation_generator = val_datagen.flow_from_directory(\n",
    "        params[\"test_dir\"],\n",
    "        target_size = (params[\"img_width\"], params[\"img_height\"]),\n",
    "        batch_size = params[\"batch_size\"],\n",
    "        shuffle = True,\n",
    "        class_mode = 'categorical')"
   ]
  },
  {
   "cell_type": "code",
   "execution_count": 18,
   "metadata": {
    "collapsed": true
   },
   "outputs": [],
   "source": [
    "\n",
    "sess = tf.Session()\n",
    "K.set_session(sess)\n",
    "params[\"historypath\"] = \"./history/evaluation_mode\"\n",
    "\n",
    "if not os.path.exists(params['historypath']):\n",
    "    os.makedirs(params['historypath'])\n",
    "            \n",
    "model = keras.models.load_model(params[\"model_file\"])\n",
    "history = model.evaluate_generator(generator = validation_generator,\n",
    "                                steps=math.ceil(params[\"test_size\"]  / params[\"batch_size\"]),\n",
    "                                max_queue_size=10, \n",
    "                                workers=params[\"workers\"],\n",
    "                                use_multiprocessing=False)            \n",
    "final_history = {}\n",
    "count = 0\n",
    "for i in model.metrics_names:\n",
    "    final_history[i] = history[count]\n",
    "    count += 1\n",
    "with open(params[\"historypath\"] + \"/history.json\", \"w\") as f:\n",
    "        json.dump(final_history, f)  \n",
    "                \n",
    "del model\n",
    "sess.close()\n",
    "tf.reset_default_graph()\n",
    "\n",
    "K.clear_session()"
   ]
  },
  {
   "cell_type": "code",
   "execution_count": null,
   "metadata": {
    "collapsed": true
   },
   "outputs": [],
   "source": []
  }
 ],
 "metadata": {
  "kernelspec": {
   "display_name": "Python 3",
   "language": "python",
   "name": "python3"
  },
  "language_info": {
   "codemirror_mode": {
    "name": "ipython",
    "version": 3
   },
   "file_extension": ".py",
   "mimetype": "text/x-python",
   "name": "python",
   "nbconvert_exporter": "python",
   "pygments_lexer": "ipython3",
   "version": "3.6.3"
  }
 },
 "nbformat": 4,
 "nbformat_minor": 2
}
